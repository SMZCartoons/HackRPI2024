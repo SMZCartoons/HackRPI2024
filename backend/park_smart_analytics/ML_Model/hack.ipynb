{
 "cells": [
  {
   "cell_type": "code",
   "execution_count": 125,
   "metadata": {},
   "outputs": [],
   "source": [
    "import numpy as np\n",
    "from numpy import genfromtxt"
   ]
  },
  {
   "cell_type": "code",
   "execution_count": 126,
   "metadata": {},
   "outputs": [
    {
     "name": "stdout",
     "output_type": "stream",
     "text": [
      "(1848, 2)\n"
     ]
    }
   ],
   "source": [
    "X_t = np.array(([6]*24 + [7]*24 + [0]*24 + [1]*24 + [2]*24 + [4]*24 + [5]*24)*11)\n",
    "X_t_t = np.array(list(range(0, 24))*7*11)\n",
    "X = np.stack([X_t, X_t_t], axis=1)\n",
    "print(X.shape)\n"
   ]
  },
  {
   "cell_type": "code",
   "execution_count": 127,
   "metadata": {},
   "outputs": [
    {
     "name": "stdout",
     "output_type": "stream",
     "text": [
      "(2016, 3)\n"
     ]
    }
   ],
   "source": [
    "my_data1 = genfromtxt('BlitmanTrain.csv', delimiter=',', dtype='str')[1:, 1:].astype(int)\n",
    "my_data2 = genfromtxt('CommonsTrain.csv', delimiter=',', dtype='str')[1:, 1:].astype(int)\n",
    "my_data3 = genfromtxt('MuellerCenterAfterGateTrain.csv', delimiter=',', dtype='str')[1:, 1:].astype(int)\n",
    "my_data4 = genfromtxt('MuellerCenterB4GateTrain.csv', delimiter=',', dtype='str')[1:, 1:].astype(int)\n",
    "my_data5 = genfromtxt('NorthLotTrain.csv', delimiter=',', dtype='str')[1:, 1:].astype(int)\n",
    "my_data6 = genfromtxt('Union1stFloorTrain.csv', delimiter=',', dtype='str')[1:, 1:].astype(int)\n",
    "my_data7 = genfromtxt('UnionFreshmenHillTrain.csv', delimiter=',', dtype='str')[1:, 1:].astype(int)\n",
    "my_data8 = genfromtxt('DCCTrain.csv', delimiter=',', dtype='str')[1:, 1:].astype(int)\n",
    "print(my_data8.shape)\n",
    "my_data1_h = genfromtxt('blitman_training_handicap.csv', delimiter=',', dtype='str')[1:, 1:].astype(int)\n",
    "my_data2_h = genfromtxt('Commons_HandiCap_Train.csv', delimiter=',', dtype='str')[1:, 1:].astype(int)\n",
    "my_data3_h = genfromtxt('Mueller_After_handicap_Gate_Train.csv', delimiter=',', dtype='str')[1:, 1:].astype(int)\n",
    "my_data4_h = genfromtxt('Mueller_b4_handicap_Gate_Train.csv', delimiter=',', dtype='str')[1:, 1:].astype(int)\n",
    "my_data5_h = genfromtxt('North_HandiCap_Train.csv', delimiter=',', dtype='str')[1:, 1:].astype(int)\n",
    "my_data6_h = genfromtxt('first_floor_union_handicap_train.csv', delimiter=',', dtype='str')[1:, 1:].astype(int)\n",
    "my_data7_h = genfromtxt('fresh_hill_union_handicap_train.csv', delimiter=',', dtype='str')[1:, 1:].astype(int)\n",
    "my_data8_h = genfromtxt('DCC_handi_train.csv', delimiter=',', dtype='str')[1:, 1:].astype(int)\n",
    "\n",
    "\n",
    "\n",
    "my_data1_h1 = genfromtxt('NorthLot_Electric_test.csv', delimiter=',', dtype='str')[1:, 1:].astype(int)"
   ]
  },
  {
   "cell_type": "code",
   "execution_count": 128,
   "metadata": {},
   "outputs": [],
   "source": [
    "X1 = np.concatenate((np.zeros((X.shape[0], 1)), X.copy(), np.zeros((X.shape[0], 1))+50), axis=1) \n",
    "X2 = np.concatenate((np.zeros((X.shape[0], 1))+1, X.copy(), np.zeros((X.shape[0], 1))+47), axis=1)\n",
    "X3 = np.concatenate((np.zeros((X.shape[0], 1))+2, X.copy(), np.zeros((X.shape[0], 1))+38), axis=1)\n",
    "X4 = np.concatenate((np.zeros((X.shape[0], 1))+3, X.copy(), np.zeros((X.shape[0], 1))+15), axis=1)\n",
    "X5 = np.concatenate((np.zeros((X.shape[0], 1))+4, X.copy(), np.zeros((X.shape[0], 1))+200), axis=1)\n",
    "X6 = np.concatenate((np.zeros((X.shape[0], 1))+5, X.copy(), np.zeros((X.shape[0], 1))+7), axis=1)\n",
    "X7 = np.concatenate((np.zeros((X.shape[0], 1))+6, X.copy(), np.zeros((X.shape[0], 1))+18), axis=1)\n",
    "X8 = np.concatenate((np.zeros((X.shape[0], 1))+7, X.copy(), np.zeros((X.shape[0], 1))+34), axis=1)\n",
    "\n",
    "X11x = np.concatenate((np.zeros((X.shape[0], 1)), X.copy(), np.zeros((X.shape[0], 1))+8), axis=1)  \n",
    "X21x = np.concatenate((np.zeros((X.shape[0], 1))+1, X.copy(), np.zeros((X.shape[0], 1))+7), axis=1)\n",
    "X31x = np.concatenate((np.zeros((X.shape[0], 1))+2, X.copy(), np.zeros((X.shape[0], 1))+6), axis=1)\n",
    "X41x = np.concatenate((np.zeros((X.shape[0], 1))+3, X.copy(), np.zeros((X.shape[0], 1))+3), axis=1)\n",
    "X51x = np.concatenate((np.zeros((X.shape[0], 1))+4, X.copy(), np.zeros((X.shape[0], 1))+20), axis=1)\n",
    "X61x = np.concatenate((np.zeros((X.shape[0], 1))+5, X.copy(), np.zeros((X.shape[0], 1))+1), axis=1)\n",
    "X71x = np.concatenate((np.zeros((X.shape[0], 1))+6, X.copy(), np.zeros((X.shape[0], 1))+3), axis=1)\n",
    "X81x = np.concatenate((np.zeros((X.shape[0], 1))+7, X.copy(), np.zeros((X.shape[0], 1))+5), axis=1)\n",
    "\n",
    "X12x = np.concatenate((np.zeros((X.shape[0], 1)), X.copy(), np.zeros((X.shape[0], 1))), axis=1) \n",
    "X22x = np.concatenate((np.zeros((X.shape[0], 1))+1, X.copy(), np.zeros((X.shape[0], 1))), axis=1)\n",
    "X32x = np.concatenate((np.zeros((X.shape[0], 1))+2, X.copy(), np.zeros((X.shape[0], 1))), axis=1)\n",
    "X42x = np.concatenate((np.zeros((X.shape[0], 1))+3, X.copy(), np.zeros((X.shape[0], 1))), axis=1)\n",
    "X52x = np.concatenate((np.zeros((X.shape[0], 1))+4, X.copy(), np.zeros((X.shape[0], 1))+8), axis=1)\n",
    "X62x = np.concatenate((np.zeros((X.shape[0], 1))+5, X.copy(), np.zeros((X.shape[0], 1))), axis=1)\n",
    "X72x = np.concatenate((np.zeros((X.shape[0], 1))+6, X.copy(), np.zeros((X.shape[0], 1))), axis=1)\n",
    "X82x = np.concatenate((np.zeros((X.shape[0], 1))+7, X.copy(), np.zeros((X.shape[0], 1))), axis=1)\n",
    "\n",
    "y1 = my_data1[:1848, 0]\n",
    "y2 = my_data2[:1848, 0]\n",
    "y3 = my_data3[:1848, 0]\n",
    "y4 = my_data4[:1848, 0]\n",
    "y5 = my_data5[:1848, 0]\n",
    "y6 = my_data6[:1848, 0]\n",
    "y7 = my_data7[:1848, 0]\n",
    "y8 = my_data8[:1848, 0]\n",
    "\n",
    "\n",
    "y11 = my_data1_h[:1848,0]\n",
    "y21 = my_data2_h[:1848,0]\n",
    "y31 = my_data3_h[:1848,0]\n",
    "y41 = my_data4_h[:1848,0]\n",
    "y51 = my_data5_h[:1848,0]\n",
    "y61 = my_data6_h[:1848,0]\n",
    "y71 = my_data7_h[:1848,0]\n",
    "y81 = my_data8_h[:1848,0]\n",
    "\n",
    "y12 = np.zeros(1848)\n",
    "y22 = np.zeros(1848)\n",
    "y32 = np.zeros(1848)\n",
    "y42 = np.zeros(1848)\n",
    "y52 = my_data1_h1[:1848,0]\n",
    "y62 = np.zeros(1848)\n",
    "y72 = np.zeros(1848)\n",
    "y82 = np.zeros(1848)\n",
    "\n",
    "\n",
    "\n",
    "X_t = np.concatenate([X1, X2, X3, X4, X5, X6, X7, X8])\n",
    "y_t = np.concatenate([y1, y2, y3, y4, y5, y6, y7, y8])\n",
    "\n",
    "X_t1x = np.concatenate([X11x, X21x, X31x, X41x, X51x, X61x, X71x, X81x])\n",
    "y_t1x = np.concatenate([y11, y21, y31, y41, y51, y61, y71, y81])\n",
    "\n",
    "X_t2x = np.concatenate([X12x, X22x, X32x, X42x, X52x, X62x, X72x, X82x])\n",
    "y_t2x = np.concatenate([y12, y22, y32, y42, y52, y62, y72, y82])\n"
   ]
  },
  {
   "cell_type": "code",
   "execution_count": 129,
   "metadata": {},
   "outputs": [],
   "source": [
    "X_t1 = np.array(([6]*24 + [7]*24 + [0]*24 + [1]*24 + [2]*24 + [4]*24 + [5]*24))\n",
    "X_t_t1 = np.array(list(range(0, 24))*7)\n",
    "X11 = np.stack([X_t1, X_t_t1], axis=1)\n",
    "\n",
    "X1 = np.concatenate((np.zeros((X11.shape[0], 1)), X11.copy(), np.zeros((X11.shape[0], 1))+50), axis=1) \n",
    "X2 = np.concatenate((np.zeros((X11.shape[0], 1))+1, X11.copy(), np.zeros((X11.shape[0], 1))+47), axis=1)\n",
    "X3 = np.concatenate((np.zeros((X11.shape[0], 1))+2, X11.copy(), np.zeros((X11.shape[0], 1))+38), axis=1)\n",
    "X4 = np.concatenate((np.zeros((X11.shape[0], 1))+3, X11.copy(), np.zeros((X11.shape[0], 1))+15), axis=1)\n",
    "X5 = np.concatenate((np.zeros((X11.shape[0], 1))+4, X11.copy(), np.zeros((X11.shape[0], 1))+200), axis=1)\n",
    "X6 = np.concatenate((np.zeros((X11.shape[0], 1))+5, X11.copy(), np.zeros((X11.shape[0], 1))+7), axis=1)\n",
    "X7 = np.concatenate((np.zeros((X11.shape[0], 1))+6, X11.copy(), np.zeros((X11.shape[0], 1))+18), axis=1)\n",
    "X8 = np.concatenate((np.zeros((X11.shape[0], 1))+7, X11.copy(), np.zeros((X11.shape[0], 1))+34), axis=1)\n",
    "\n",
    "X11x = np.concatenate((np.zeros((X11.shape[0], 1)), X11.copy(), np.zeros((X11.shape[0], 1))+8), axis=1)  \n",
    "X21x = np.concatenate((np.zeros((X11.shape[0], 1))+1, X11.copy(), np.zeros((X11.shape[0], 1))+7), axis=1)\n",
    "X31x = np.concatenate((np.zeros((X11.shape[0], 1))+2, X11.copy(), np.zeros((X11.shape[0], 1))+6), axis=1)\n",
    "X41x = np.concatenate((np.zeros((X11.shape[0], 1))+3, X11.copy(), np.zeros((X11.shape[0], 1))+3), axis=1)\n",
    "X51x = np.concatenate((np.zeros((X11.shape[0], 1))+4, X11.copy(), np.zeros((X11.shape[0], 1))+20), axis=1)\n",
    "X61x = np.concatenate((np.zeros((X11.shape[0], 1))+5, X11.copy(), np.zeros((X11.shape[0], 1))+1), axis=1)\n",
    "X71x = np.concatenate((np.zeros((X11.shape[0], 1))+6, X11.copy(), np.zeros((X11.shape[0], 1))+3), axis=1)\n",
    "X81x = np.concatenate((np.zeros((X11.shape[0], 1))+7, X11.copy(), np.zeros((X11.shape[0], 1))+5), axis=1)\n",
    "\n",
    "X12x = np.concatenate((np.zeros((X11.shape[0], 1)), X11.copy(), np.zeros((X11.shape[0], 1))), axis=1) \n",
    "X22x = np.concatenate((np.zeros((X11.shape[0], 1))+1, X11.copy(), np.zeros((X11.shape[0], 1))), axis=1)\n",
    "X32x = np.concatenate((np.zeros((X11.shape[0], 1))+2, X11.copy(), np.zeros((X11.shape[0], 1))), axis=1)\n",
    "X42x = np.concatenate((np.zeros((X11.shape[0], 1))+3, X11.copy(), np.zeros((X11.shape[0], 1))), axis=1)\n",
    "X52x = np.concatenate((np.zeros((X11.shape[0], 1))+4, X11.copy(), np.zeros((X11.shape[0], 1))+8), axis=1)\n",
    "X62x = np.concatenate((np.zeros((X11.shape[0], 1))+5, X11.copy(), np.zeros((X11.shape[0], 1))), axis=1)\n",
    "X72x = np.concatenate((np.zeros((X11.shape[0], 1))+6, X11.copy(), np.zeros((X11.shape[0], 1))), axis=1)\n",
    "X82x = np.concatenate((np.zeros((X11.shape[0], 1))+7, X11.copy(), np.zeros((X11.shape[0], 1))), axis=1)\n",
    "\n",
    "y1 = my_data1[1848:, 0]\n",
    "y2 = my_data2[1848:, 0]\n",
    "y3 = my_data3[1848:, 0]\n",
    "y4 = my_data4[1848:, 0]\n",
    "y5 = my_data5[1848:, 0]\n",
    "y6 = my_data6[1848:, 0]\n",
    "y7 = my_data7[1848:, 0]\n",
    "y8 = my_data8[1848:, 0]\n",
    "\n",
    "y11 = my_data1_h[1848:,0]\n",
    "y21 = my_data2_h[1848:,0]\n",
    "y31 = my_data3_h[1848:,0]\n",
    "y41 = my_data4_h[1848:,0]\n",
    "y51 = my_data5_h[1848:,0]\n",
    "y61 = my_data6_h[1848:,0]\n",
    "y71 = my_data7_h[1848:,0]\n",
    "y81 = my_data8_h[1848:,0]\n",
    "\n",
    "l = my_data8_h.shape[0]-1848\n",
    "y12 = np.zeros(l)\n",
    "y22 = np.zeros(l)\n",
    "y32 = np.zeros(l)\n",
    "y42 = np.zeros(l)\n",
    "y52 = my_data1_h1[1848:,0]\n",
    "y62 = np.zeros(l)\n",
    "y72 = np.zeros(l)\n",
    "y82 = np.zeros(l)\n",
    "\n",
    "\n",
    "X_v = np.concatenate([X1, X2, X3, X4, X5, X6, X7, X8])\n",
    "y_v = np.concatenate([y1, y2, y3, y4, y5, y6, y7, y8])\n",
    "\n",
    "X_v1 = np.concatenate([X11x, X21x, X31x, X41x, X51x, X61x, X71x, X81x])\n",
    "y_v1 = np.concatenate([y11, y21, y31, y41, y51, y61, y71, y81])\n",
    "\n",
    "X_v2 = np.concatenate([X12x, X22x, X32x, X42x, X52x, X62x, X72x, X82x])\n",
    "y_v2 = np.concatenate([y12, y22, y32, y42, y52, y62, y72, y82])\n",
    "\n"
   ]
  },
  {
   "cell_type": "code",
   "execution_count": 130,
   "metadata": {},
   "outputs": [
    {
     "name": "stdout",
     "output_type": "stream",
     "text": [
      "R-squared Score: 0.9637673799240493\n",
      "0.9602167632888883\n"
     ]
    }
   ],
   "source": [
    "from sklearn.neighbors import KNeighborsRegressor\n",
    "# from sklearn.metrics import accuracy_score\n",
    "from sklearn.metrics import r2_score\n",
    "\n",
    "total_spots_reg = KNeighborsRegressor(n_neighbors=5)  # n_neighbors is the number of neighbors to consider\n",
    "total_spots_reg.fit(X_t, y_t)\n",
    "\n",
    "# Predict on test data\n",
    "y_pred = total_spots_reg.predict(X_t)\n",
    "\n",
    "# get the accuracy\n",
    "\n",
    "r2 = r2_score(y_t, y_pred)\n",
    "print(\"R-squared Score:\", r2)\n",
    "\n",
    "p_v = total_spots_reg.predict(X_v)\n",
    "print(r2_score(y_v, p_v))\n"
   ]
  },
  {
   "cell_type": "code",
   "execution_count": 131,
   "metadata": {},
   "outputs": [
    {
     "name": "stdout",
     "output_type": "stream",
     "text": [
      "(14784, 4)\n",
      "R-squared Score: 0.8443195897566905\n",
      "0.831651651567983\n"
     ]
    }
   ],
   "source": [
    "from sklearn.neighbors import KNeighborsRegressor\n",
    "# from sklearn.metrics import accuracy_score\n",
    "from sklearn.metrics import r2_score\n",
    "print(X_t1x.shape)\n",
    "handicap_spots_reg = KNeighborsRegressor(n_neighbors=8)  # n_neighbors is the number of neighbors to consider\n",
    "handicap_spots_reg.fit(X_t1x, y_t1x)\n",
    "# Predict on test data\n",
    "y_pred = handicap_spots_reg.predict(X_t1x)\n",
    "\n",
    "# get the accuracy\n",
    "\n",
    "r2 = r2_score(y_t1x, y_pred)\n",
    "print(\"R-squared Score:\", r2)\n",
    "\n",
    "p_v = handicap_spots_reg.predict(X_v1)\n",
    "print(r2_score(y_v1, p_v))\n"
   ]
  },
  {
   "cell_type": "code",
   "execution_count": 132,
   "metadata": {},
   "outputs": [
    {
     "name": "stdout",
     "output_type": "stream",
     "text": [
      "R-squared Score: 0.8520027248807034\n",
      "0.834279147182373\n"
     ]
    }
   ],
   "source": [
    "from sklearn.neighbors import KNeighborsRegressor\n",
    "# from sklearn.metrics import accuracy_score\n",
    "from sklearn.metrics import r2_score\n",
    "\n",
    "electric_spots_reg = KNeighborsRegressor(n_neighbors=8)  # n_neighbors is the number of neighbors to consider\n",
    "electric_spots_reg.fit(X_t2x, y_t2x)\n",
    "\n",
    "# Predict on test data\n",
    "y_pred = electric_spots_reg.predict(X_t2x)\n",
    "\n",
    "# get the accuracy\n",
    "\n",
    "r2 = r2_score(y_t2x, y_pred)\n",
    "print(\"R-squared Score:\", r2)\n",
    "\n",
    "p_v = electric_spots_reg.predict(X_v2)\n",
    "print(r2_score(y_v2, p_v))\n"
   ]
  },
  {
   "cell_type": "code",
   "execution_count": 133,
   "metadata": {},
   "outputs": [],
   "source": [
    "\n",
    "from sklearn import datasets\n",
    "import pickle\n",
    "\n",
    "# save\n",
    "with open('total_spots_model.pkl','wb') as f:\n",
    "    pickle.dump(total_spots_reg,f)\n",
    "\n",
    "with open('handi_spots_model.pkl','wb') as f:\n",
    "    pickle.dump(handicap_spots_reg,f)\n",
    "\n",
    "with open('electric_spots_model.pkl','wb') as f:\n",
    "    pickle.dump(electric_spots_reg,f)\n",
    "\n"
   ]
  }
 ],
 "metadata": {
  "kernelspec": {
   "display_name": "NewML",
   "language": "python",
   "name": "python3"
  },
  "language_info": {
   "codemirror_mode": {
    "name": "ipython",
    "version": 3
   },
   "file_extension": ".py",
   "mimetype": "text/x-python",
   "name": "python",
   "nbconvert_exporter": "python",
   "pygments_lexer": "ipython3",
   "version": "3.12.7"
  }
 },
 "nbformat": 4,
 "nbformat_minor": 2
}
